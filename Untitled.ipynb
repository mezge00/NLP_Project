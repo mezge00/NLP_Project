{
 "cells": [
  {
   "cell_type": "code",
   "execution_count": 1,
   "id": "f011076a",
   "metadata": {},
   "outputs": [
    {
     "name": "stdout",
     "output_type": "stream",
     "text": [
      "P\tQ\tR\t(P^Q)=>R\tQ=>P\t\tKB\t\tKB=>R\n",
      "True\tTrue\tTrue\tTrue\t\tTrue\t\tTrue\t\tTrue\n",
      "True\tTrue\tFalse\tFalse\t\tTrue\t\tFalse\t\tTrue\n",
      "True\tFalse\tTrue\tTrue\t\tTrue\t\tFalse\t\tTrue\n",
      "True\tFalse\tFalse\tTrue\t\tTrue\t\tFalse\t\tTrue\n",
      "False\tTrue\tTrue\tTrue\t\tFalse\t\tFalse\t\tTrue\n",
      "False\tTrue\tFalse\tTrue\t\tFalse\t\tFalse\t\tTrue\n",
      "False\tFalse\tTrue\tTrue\t\tTrue\t\tFalse\t\tTrue\n",
      "False\tFalse\tFalse\tTrue\t\tTrue\t\tFalse\t\tTrue\n"
     ]
    }
   ],
   "source": [
    "## Truth Table for 3 variables\n",
    "P = True, False\n",
    "Q = True, False\n",
    "R = True, False\n",
    "\n",
    "# Knowledge Base given in the assignment\n",
    "# (p ^ Q) => R, Q=>P, KB, and KB=>R\n",
    "KB = (((P and Q) <= R) and (Q <= P) and Q)\n",
    "\n",
    "# implication function\n",
    "def implies(a, b):\n",
    "    return (not a) or b\n",
    "\n",
    "# conjunction function\n",
    "def conjunction(a, b):\n",
    "    return a and b\n",
    "\n",
    "# Define the truth table\n",
    "print(\"P\\tQ\\tR\\t(P^Q)=>R\\tQ=>P\\t\\tKB\\t\\tKB=>R\")\n",
    "for p in P:\n",
    "    for q in Q:\n",
    "        for r in R:\n",
    "            pq_imp_r = implies(conjunction(p, q), r)\n",
    "            q_imp_p = implies(q, p)\n",
    "            kb = conjunction(conjunction(pq_imp_r, q_imp_p), q)\n",
    "            kb_imp_r = implies(kb, r)\n",
    "            print(f\"{p}\\t{q}\\t{r}\\t{pq_imp_r}\\t\\t{q_imp_p}\\t\\t{kb}\\t\\t{kb_imp_r}\")"
   ]
  },
  {
   "cell_type": "code",
   "execution_count": null,
   "id": "9714f78e",
   "metadata": {},
   "outputs": [],
   "source": []
  }
 ],
 "metadata": {
  "kernelspec": {
   "display_name": "Python 3 (ipykernel)",
   "language": "python",
   "name": "python3"
  },
  "language_info": {
   "codemirror_mode": {
    "name": "ipython",
    "version": 3
   },
   "file_extension": ".py",
   "mimetype": "text/x-python",
   "name": "python",
   "nbconvert_exporter": "python",
   "pygments_lexer": "ipython3",
   "version": "3.9.13"
  }
 },
 "nbformat": 4,
 "nbformat_minor": 5
}
